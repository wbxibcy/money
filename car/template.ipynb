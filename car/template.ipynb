{
 "cells": [
  {
   "cell_type": "markdown",
   "id": "614aa99b",
   "metadata": {
    "papermill": {
     "duration": 0.073943,
     "end_time": "2021-08-03T10:26:45.709931",
     "exception": false,
     "start_time": "2021-08-03T10:26:45.635988",
     "status": "completed"
    },
    "tags": []
   },
   "source": [
    "<p style = \"font-size : 50px; color : #532e1c ; font-family : 'SimHei'; text-align : center; background-color : #bedcfa; border-radius: 5px 5px;\"><strong>汽车贷款违约预测</strong></p>"
   ]
  },
  {
   "cell_type": "markdown",
   "id": "31cf4da0-3e26-4945-bfbb-02e03c444401",
   "metadata": {},
   "source": [
    "# 案例背景"
   ]
  },
  {
   "cell_type": "markdown",
   "id": "fbfd5524-f76b-4408-9a4f-d5b40e77dac0",
   "metadata": {},
   "source": [
    "汽车贷款违约预测\n",
    "\n",
    "通过对数据的分析，评估客户的贷款偿还能力，并确定影响借款人偿还贷款能力的每个因素的相对重要性。\n",
    "目的是预测客户是否可能拖欠汽车贷款付款。\n",
    "完成以下任务：\n",
    "（1）原始数据为loan.xlsx，需自己切分数据为X_train, X_test,（训练集）和 y_train, y_test（测试集）；\n",
    "（2）检查数据中是否存在重复观测、缺失值、异常值（如:\"x1\"、\"x8\"中部分值为 \"$\"，x17 中部分值为\"x\";；\"x35\"中部分值为 \"&\"）等，部分数值以\"2345\"形式存储，并对其进行相应的处理 # @ 等\n",
    "（3）对字符型的离散变量做相应的重编码。\n",
    "（4）多种分类器的尝试（推荐尝试lightgbm、RandomForest）"
   ]
  },
  {
   "cell_type": "code",
   "execution_count": 24,
   "id": "89764c70",
   "metadata": {
    "papermill": {
     "duration": 2.342669,
     "end_time": "2021-08-03T10:26:48.406881",
     "exception": false,
     "start_time": "2021-08-03T10:26:46.064212",
     "status": "completed"
    },
    "tags": []
   },
   "outputs": [],
   "source": [
    "# necessary imports \n",
    "import pandas as pd\n",
    "import numpy as np\n",
    "import matplotlib.pyplot as plt\n",
    "import utils\n"
   ]
  },
  {
   "cell_type": "markdown",
   "id": "18a74c15-e670-49b6-8d7f-b2ab1af3f699",
   "metadata": {
    "papermill": {
     "duration": 0.134709,
     "end_time": "2021-08-03T10:26:48.611821",
     "exception": false,
     "start_time": "2021-08-03T10:26:48.477112",
     "status": "completed"
    },
    "tags": []
   },
   "source": [
    "# 加载数据"
   ]
  },
  {
   "cell_type": "code",
   "execution_count": 26,
   "id": "aa6e4bb9-4194-4d48-8a11-d7ee4246a1d1",
   "metadata": {},
   "outputs": [],
   "source": [
    "data = pd.read_excel('loan.xlsx')"
   ]
  },
  {
   "cell_type": "markdown",
   "id": "e64d11ad-f18a-46fd-8b84-4922d34aec0d",
   "metadata": {
    "tags": []
   },
   "source": [
    "# 数据质量的探索性分析"
   ]
  },
  {
   "cell_type": "markdown",
   "id": "f4832e4e-1399-43d4-8cca-98ba2c55b60c",
   "metadata": {},
   "source": [
    "## 数值型数据的基本统计值\n",
    "首先，需要知道每个变量的基本统计值，如均值、中位数、四分位数、最大值、最小值等"
   ]
  },
  {
   "cell_type": "markdown",
   "id": "dc386d0d-1136-4124-a085-38e6117a50f1",
   "metadata": {
    "jp-MarkdownHeadingCollapsed": true,
    "papermill": {
     "duration": 0.081484,
     "end_time": "2021-08-03T10:26:48.915444",
     "exception": false,
     "start_time": "2021-08-03T10:26:48.833960",
     "status": "completed"
    },
    "tags": []
   },
   "source": [
    "## 查看数据信息"
   ]
  },
  {
   "cell_type": "markdown",
   "id": "f94d4fcb-6588-4a1c-9070-fe1bb688e936",
   "metadata": {
    "papermill": {
     "duration": 0.081719,
     "end_time": "2021-08-03T10:26:49.068594",
     "exception": false,
     "start_time": "2021-08-03T10:26:48.986875",
     "status": "completed"
    },
    "tags": []
   },
   "source": [
    "## 数据质量检测"
   ]
  },
  {
   "cell_type": "markdown",
   "id": "8c2d434f-8486-48c1-9957-fced0b6371e6",
   "metadata": {},
   "source": [
    "# 数据预处理"
   ]
  },
  {
   "cell_type": "markdown",
   "id": "94a8aab3-3e71-4e64-8fd7-6481ac445eef",
   "metadata": {},
   "source": [
    "## 异常值处理"
   ]
  },
  {
   "cell_type": "markdown",
   "id": "dfd0beab-6bb3-4bd4-9596-4ceff09ff144",
   "metadata": {},
   "source": [
    "    x1 (客户收入（美元）)、x7 (贷款的信贷金额（美元）)、x8(贷款年金（Loan annuity，美元）)   包含： $\n",
    "\n",
    "    x17(客户在提交申请时的年龄)、x18(在申请贷款前，客户受雇天数)、x19(在申请贷款的前几天，客户更改了他/她的注册信息) 、(在申请贷款前几天，客户更换了申请贷款的ID信息)  包含：  x\n",
    "\n",
    "    x35(其他来源评分3（标准化数据）)  包含：&\n",
    "\n",
    "    x16(客户所居住地区的相对人口。较高的值意味着客户生活在人口较多的地区)  包含 ：#\n",
    "    x16(客户所居住地区的相对人口。较高的值意味着客户生活在人口较多的地区)   包含 ：@"
   ]
  },
  {
   "cell_type": "code",
   "execution_count": 3,
   "id": "18b62d2b-ab91-40b9-acaf-e090a35ed9f9",
   "metadata": {},
   "outputs": [
    {
     "name": "stdout",
     "output_type": "stream",
     "text": [
      "<class 'pandas.core.frame.DataFrame'>\n",
      "RangeIndex: 90173 entries, 0 to 90172\n",
      "Data columns (total 40 columns):\n",
      " #   Column  Non-Null Count  Dtype  \n",
      "---  ------  --------------  -----  \n",
      " 0   ID      90173 non-null  int64  \n",
      " 1   x1      87511 non-null  object \n",
      " 2   x2      87535 non-null  float64\n",
      " 3   x3      87518 non-null  float64\n",
      " 4   x4      87503 non-null  float64\n",
      " 5   x5      87433 non-null  float64\n",
      " 6   x6      87496 non-null  float64\n",
      " 7   x7      87494 non-null  object \n",
      " 8   x8      86637 non-null  object \n",
      " 9   x9      88898 non-null  object \n",
      " 10  x10     87431 non-null  object \n",
      " 11  x11     87500 non-null  object \n",
      " 12  x12     87607 non-null  object \n",
      " 13  x13     88416 non-null  object \n",
      " 14  x14     87430 non-null  object \n",
      " 15  x15     87421 non-null  object \n",
      " 16  x16     86601 non-null  object \n",
      " 17  x17     87476 non-null  object \n",
      " 18  x18     87468 non-null  object \n",
      " 19  x19     87464 non-null  object \n",
      " 20  x20     85772 non-null  object \n",
      " 21  x21     31006 non-null  float64\n",
      " 22  x22     90173 non-null  int64  \n",
      " 23  x23     90173 non-null  int64  \n",
      " 24  x24     90173 non-null  int64  \n",
      " 25  x25     59551 non-null  object \n",
      " 26  x26     88334 non-null  float64\n",
      " 27  x27     88346 non-null  float64\n",
      " 28  x28     88384 non-null  float64\n",
      " 29  x29     87447 non-null  float64\n",
      " 30  x30     90173 non-null  object \n",
      " 31  x31     90173 non-null  object \n",
      " 32  x32     87527 non-null  object \n",
      " 33  x33     39274 non-null  float64\n",
      " 34  x34     85959 non-null  float64\n",
      " 35  x35     70222 non-null  object \n",
      " 36  x36     44342 non-null  float64\n",
      " 37  x37     87403 non-null  float64\n",
      " 38  x38     76390 non-null  float64\n",
      " 39  Label   90173 non-null  int64  \n",
      "dtypes: float64(15), int64(5), object(20)\n",
      "memory usage: 27.5+ MB\n",
      "None\n"
     ]
    }
   ],
   "source": [
    "\n",
    "\n",
    "\n"
   ]
  },
  {
   "cell_type": "markdown",
   "id": "00b4864f-d834-4ea0-8b6d-debcfeabcc52",
   "metadata": {},
   "source": [
    "## 缺失值处理"
   ]
  },
  {
   "cell_type": "markdown",
   "id": "2b10fa97-4fa9-43a8-b322-fc25bf032968",
   "metadata": {},
   "source": [
    "## 散变量的重编码"
   ]
  },
  {
   "cell_type": "markdown",
   "id": "0bce19bb-b3f3-4f45-b2e7-accdad8d0eb8",
   "metadata": {},
   "source": [
    "使用sklearn.preprocessing 中的 LabelEncoder  或  OrdinalEncoder 均可"
   ]
  },
  {
   "cell_type": "markdown",
   "id": "9c33509d-d602-48a4-8fc3-1aeea0aa730d",
   "metadata": {},
   "source": [
    "## 数据类型转换"
   ]
  },
  {
   "cell_type": "markdown",
   "id": "3953636c-0d47-4866-8add-ece1db35dca9",
   "metadata": {},
   "source": [
    "## 数据归一化/标准化"
   ]
  },
  {
   "cell_type": "markdown",
   "id": "05b5bb0e-c3bb-4408-a291-e55984af0f1a",
   "metadata": {},
   "source": [
    "# 数据可视化"
   ]
  },
  {
   "cell_type": "markdown",
   "id": "ed948bd6-58b6-4f7f-8419-f3ca3c7a473c",
   "metadata": {},
   "source": [
    "## 数据分布情况"
   ]
  },
  {
   "cell_type": "markdown",
   "id": "f9d161ba-abe1-4e36-a3b0-3ba514617942",
   "metadata": {},
   "source": [
    "## 数据相关情况"
   ]
  },
  {
   "cell_type": "markdown",
   "id": "72d7fee1-6379-4882-b587-5968a80ae6ff",
   "metadata": {},
   "source": [
    "# 特征工程"
   ]
  },
  {
   "cell_type": "markdown",
   "id": "5a601cd0-846b-42a6-8de9-50f309984b80",
   "metadata": {},
   "source": [
    "## 检测和删除无关、弱相关、或冗余的属性"
   ]
  },
  {
   "cell_type": "markdown",
   "id": "2b61c887-1466-4d8b-a98d-b0be2d28271c",
   "metadata": {
    "tags": []
   },
   "source": [
    "## 机器学习算法获得变量重要性选择部分属性"
   ]
  },
  {
   "cell_type": "markdown",
   "id": "82c11164-f6d2-4f4f-a5ca-6357d142b9a3",
   "metadata": {},
   "source": [
    "## 生成新的属性"
   ]
  },
  {
   "cell_type": "markdown",
   "id": "57bed4a1-25c2-40b7-a48d-bfabd75f8da7",
   "metadata": {},
   "source": []
  },
  {
   "cell_type": "markdown",
   "id": "8eb41380-518d-4e77-85b8-9b099a65c25d",
   "metadata": {},
   "source": [
    "# 建模"
   ]
  },
  {
   "cell_type": "markdown",
   "id": "01a00ee1-4c78-408d-9cf9-7cc6c5724587",
   "metadata": {},
   "source": [
    "## 指定分类变量和特征变量"
   ]
  },
  {
   "cell_type": "markdown",
   "id": "780ecbc6-8217-4662-9563-fec580da59ef",
   "metadata": {},
   "source": [
    "## 数据集划分训练集测试集（7：3 或 8：2）"
   ]
  },
  {
   "cell_type": "raw",
   "id": "5ac53c5f-d60c-4963-af09-15bd7d4ef69f",
   "metadata": {},
   "source": [
    "模型可以使用：KNN、决策树、RandomForest、AdaBoost、GradientBoostingClassifier、XgBoost、CatBoost、ExtraTreesClassifier、LGBMClassifier  等一个或多个"
   ]
  },
  {
   "cell_type": "markdown",
   "id": "edbab383-21f1-4547-ad12-89cd9ccda68c",
   "metadata": {
    "tags": []
   },
   "source": [
    "## 模型 A "
   ]
  },
  {
   "cell_type": "markdown",
   "id": "595a5893-3dd2-44af-b18e-41797008a7a3",
   "metadata": {},
   "source": [
    "### 训练集评估"
   ]
  },
  {
   "cell_type": "markdown",
   "id": "c6f2a5d9-905e-4443-8ca1-639abadabd7d",
   "metadata": {},
   "source": [
    "### 测试集评估"
   ]
  },
  {
   "cell_type": "markdown",
   "id": "76600c3f-d05d-4e4c-9565-5a523848090c",
   "metadata": {
    "tags": []
   },
   "source": [
    "## 模型 B "
   ]
  },
  {
   "cell_type": "markdown",
   "id": "74b2a221-ae4f-4dd4-9067-ba174db11509",
   "metadata": {},
   "source": [
    "### 训练集评估"
   ]
  },
  {
   "cell_type": "markdown",
   "id": "6f97ab33-750e-47b1-8262-5eda29ba18f6",
   "metadata": {},
   "source": [
    "### 测试集评估"
   ]
  },
  {
   "cell_type": "markdown",
   "id": "ad57d7ec-4d42-49b0-97fb-d0bafc75feff",
   "metadata": {
    "tags": []
   },
   "source": [
    "## 模型 C"
   ]
  },
  {
   "cell_type": "markdown",
   "id": "67cd224a-cff1-4aeb-a632-b042ce49eca3",
   "metadata": {},
   "source": [
    "### 训练集评估"
   ]
  },
  {
   "cell_type": "markdown",
   "id": "39a4c5c8-7013-40e0-a1e2-9c97a74ceba2",
   "metadata": {},
   "source": [
    "### 测试集评估"
   ]
  },
  {
   "cell_type": "markdown",
   "id": "fac3b85c-021a-4ab7-8400-e4a6ce4fff59",
   "metadata": {},
   "source": [
    "## 模型比较"
   ]
  },
  {
   "cell_type": "code",
   "execution_count": null,
   "id": "2142209a-b4cd-4006-8467-c8a52773d5d2",
   "metadata": {},
   "outputs": [],
   "source": []
  },
  {
   "cell_type": "markdown",
   "id": "558a14ef-9166-4a1d-bb3b-9cff9bd2f372",
   "metadata": {},
   "source": [
    "# 预测"
   ]
  },
  {
   "cell_type": "markdown",
   "id": "11d3165f-5cba-436c-9946-050a288eed6d",
   "metadata": {},
   "source": [
    "## 读入待预测数据"
   ]
  },
  {
   "cell_type": "code",
   "execution_count": null,
   "id": "8fb1b45a-daef-4a64-8de7-b2afd4c7b94c",
   "metadata": {
    "tags": []
   },
   "outputs": [],
   "source": [
    "loan_prediction = pd.read_excel('loan_prediction.xlsx')\n",
    "# 建模需删除id，但最终输出结果需要id，故此处需把id另存一个变量里。\n",
    "loan_prediction_id = loan_prediction['ID']\n",
    "loan_prediction.head()"
   ]
  },
  {
   "cell_type": "code",
   "execution_count": null,
   "id": "2b562f8d-a381-4ca2-bd02-ded59c26e85d",
   "metadata": {},
   "outputs": [],
   "source": []
  },
  {
   "cell_type": "code",
   "execution_count": null,
   "id": "68138fc7-3837-41e5-aa14-d2b2c1ffb1b2",
   "metadata": {},
   "outputs": [],
   "source": []
  },
  {
   "cell_type": "markdown",
   "id": "8aa7cc65-2d39-4698-bc72-2ae36ba91e82",
   "metadata": {
    "tags": []
   },
   "source": [
    "## 预测"
   ]
  },
  {
   "cell_type": "code",
   "execution_count": 105,
   "id": "6c2d9462-fd64-4360-b846-ca1a124c49f9",
   "metadata": {},
   "outputs": [],
   "source": [
    "# 预测结果\n",
    "label_prediction = "
   ]
  },
  {
   "cell_type": "code",
   "execution_count": null,
   "id": "971f9070-2688-42f0-814b-b1637eb3a250",
   "metadata": {},
   "outputs": [],
   "source": [
    "result = pd.DataFrame(columns=['ID','Label'])\n",
    "result['ID'] = loan_prediction_id\n",
    "result['Label']= pd.Series(label_prediction )\n",
    "result"
   ]
  },
  {
   "cell_type": "code",
   "execution_count": 108,
   "id": "062c9fb5-894b-4882-80f5-23932d9fce36",
   "metadata": {},
   "outputs": [],
   "source": [
    "result.to_excel('result.xlsx',index=0)"
   ]
  },
  {
   "cell_type": "markdown",
   "id": "880f5d4d-34b9-4557-96f8-39dcea29471b",
   "metadata": {},
   "source": [
    "# 评分"
   ]
  },
  {
   "cell_type": "code",
   "execution_count": 4,
   "id": "7cb6ef78-6504-4081-bd9b-ce1e58080247",
   "metadata": {},
   "outputs": [
    {
     "name": "stdout",
     "output_type": "stream",
     "text": [
      "============================================================\n",
      "              precision    recall  f1-score   support\n",
      "\n",
      "           0       0.92      0.99      0.95     29058\n",
      "           1       0.18      0.02      0.04      2625\n",
      "\n",
      "    accuracy                           0.91     31683\n",
      "   macro avg       0.55      0.51      0.50     31683\n",
      "weighted avg       0.86      0.91      0.88     31683\n",
      "\n",
      "============================================================\n",
      "你的成绩为：87.75\n"
     ]
    }
   ],
   "source": [
    "data_predicted = pd.read_excel('result.xlsx')  #\n",
    "utils.Score(data_predicted)"
   ]
  },
  {
   "cell_type": "code",
   "execution_count": null,
   "id": "45537052-ce05-4ad7-ba15-e727867ee11f",
   "metadata": {},
   "outputs": [],
   "source": []
  },
  {
   "cell_type": "code",
   "execution_count": null,
   "id": "cb800f9d-23d8-4a5e-852d-3c147ed2997f",
   "metadata": {},
   "outputs": [],
   "source": []
  }
 ],
 "metadata": {
  "kernelspec": {
   "display_name": "Python 3 (ipykernel)",
   "language": "python",
   "name": "python3"
  },
  "language_info": {
   "codemirror_mode": {
    "name": "ipython",
    "version": 3
   },
   "file_extension": ".py",
   "mimetype": "text/x-python",
   "name": "python",
   "nbconvert_exporter": "python",
   "pygments_lexer": "ipython3",
   "version": "3.10.9"
  },
  "papermill": {
   "default_parameters": {},
   "duration": 63.932833,
   "end_time": "2021-08-03T10:27:41.688051",
   "environment_variables": {},
   "exception": null,
   "input_path": "__notebook__.ipynb",
   "output_path": "__notebook__.ipynb",
   "parameters": {},
   "start_time": "2021-08-03T10:26:37.755218",
   "version": "2.3.3"
  },
  "toc-autonumbering": true
 },
 "nbformat": 4,
 "nbformat_minor": 5
}
